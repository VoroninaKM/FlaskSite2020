{
 "cells": [
  {
   "cell_type": "code",
   "execution_count": null,
   "metadata": {},
   "outputs": [],
   "source": [
    "from flask import render_template, flash, redirect\n",
    "\n",
    "@app.route('/login', methods=['GET', 'POST'])\n",
    "def login():\n",
    "    form = LoginForm()\n",
    "    if form.validate_on_submit():\n",
    "        flash('Login requested for user {}, remember_me={}'.format(\n",
    "            form.username.data, form.remember_me.data))\n",
    "        return redirect('/index')\n",
    "    return render_template('login.html', title='Sign In', form=form)\n"
   ]
  }
 ],
 "metadata": {
  "kernelspec": {
   "display_name": "Python 3",
   "language": "python",
   "name": "python3"
  },
  "language_info": {
   "codemirror_mode": {
    "name": "ipython",
    "version": 3
   },
   "file_extension": ".py",
   "mimetype": "text/x-python",
   "name": "python",
   "nbconvert_exporter": "python",
   "pygments_lexer": "ipython3",
   "version": "3.7.4"
  }
 },
 "nbformat": 4,
 "nbformat_minor": 2
}
